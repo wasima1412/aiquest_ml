{
 "cells": [
  {
   "cell_type": "code",
   "execution_count": 2,
   "metadata": {},
   "outputs": [
    {
     "name": "stdout",
     "output_type": "stream",
     "text": [
      "After swapping a:  500\n",
      "After swapping b:  100\n"
     ]
    }
   ],
   "source": [
    "#1. Write a program that swaps the values of two variables.\n",
    "a = input(\"a: \") \n",
    "b = input(\"b: \")  \n",
    "   \n",
    "\n",
    "temp = a \n",
    "a = b\n",
    "b = temp  \n",
    "   \n",
    "print (\"After swapping a: \", a)  \n",
    "print (\"After swapping b: \", b)  "
   ]
  },
  {
   "cell_type": "code",
   "execution_count": 4,
   "metadata": {},
   "outputs": [
    {
     "name": "stdout",
     "output_type": "stream",
     "text": [
      "Area:  200.0\n"
     ]
    }
   ],
   "source": [
    "#2. Write a program that calculates the area of a rectangle given its length and width.\n",
    "length = float(input(\"length: \"))\n",
    "width = float(input(\"width: \")) \n",
    "\n",
    "area = length* width\n",
    "print(\"Area: \",area)\n",
    "   "
   ]
  },
  {
   "cell_type": "code",
   "execution_count": 5,
   "metadata": {},
   "outputs": [
    {
     "name": "stdout",
     "output_type": "stream",
     "text": [
      "Farenheit:  212.0\n"
     ]
    }
   ],
   "source": [
    "#3. Write a program that converts temperature from Fahrenheit to Celsius.\n",
    "cels = float(input(\"cels: \"))\n",
    "\n",
    "faren = ((9/5)*cels) + 32\n",
    "\n",
    "print(\"Farenheit: \",faren)\n"
   ]
  },
  {
   "cell_type": "code",
   "execution_count": 6,
   "metadata": {},
   "outputs": [
    {
     "name": "stdout",
     "output_type": "stream",
     "text": [
      "volume:  904.7786842338603\n"
     ]
    }
   ],
   "source": [
    "#4. Write a program that calculates the volume of a sphere given its radius.\n",
    "import math\n",
    "r = float(input(\"r: \"))\n",
    "V =  (4/3) * math.pi * (r*r*r)\n",
    "print(\"volume: \",V)\n"
   ]
  },
  {
   "cell_type": "code",
   "execution_count": 7,
   "metadata": {},
   "outputs": [
    {
     "name": "stdout",
     "output_type": "stream",
     "text": [
      "average: 2.0\n"
     ]
    }
   ],
   "source": [
    "#5. Write a program that finds the average of three numbers.\n",
    "\n",
    "a = float(input(\"a: \"))\n",
    "b = float(input(\"b: \"))\n",
    "c = float(input(\"c: \"))\n",
    "\n",
    "\n",
    "avg = (a+b+c) / 3\n",
    "\n",
    "print(\"average:\", avg)"
   ]
  },
  {
   "cell_type": "code",
   "execution_count": 10,
   "metadata": {},
   "outputs": [
    {
     "name": "stdout",
     "output_type": "stream",
     "text": [
      "Odd\n"
     ]
    }
   ],
   "source": [
    "#6. Write a program that determines if a number is even or odd.\n",
    "a = int(input(\"a: \"))\n",
    "\n",
    "if a % 2 == 0:\n",
    "    print(\"Even\")\n",
    "else:\n",
    "    print(\"Odd\")\n"
   ]
  },
  {
   "cell_type": "code",
   "execution_count": 12,
   "metadata": {},
   "outputs": [
    {
     "name": "stdout",
     "output_type": "stream",
     "text": [
      "maximum: 3.0\n"
     ]
    }
   ],
   "source": [
    "#7. Write a program that finds the maximum of three numbers.\n",
    "a = float(input(\"a: \"))\n",
    "b = float(input(\"b: \"))\n",
    "c = float(input(\"c: \"))\n",
    "\n",
    "max = max(a,b,c)\n",
    "\n",
    "print(\"maximum:\", max)\n"
   ]
  },
  {
   "cell_type": "code",
   "execution_count": 14,
   "metadata": {},
   "outputs": [
    {
     "name": "stdout",
     "output_type": "stream",
     "text": [
      "Not Leap\n"
     ]
    }
   ],
   "source": [
    "#8. Write a program that determines if a year is a leap year or not.\n",
    "\n",
    "y = int(input(\"year: \"))\n",
    "\n",
    "if (y % 4 == 0 and y % 100 != 0) or (y % 400 == 0):\n",
    "    print(\"Leap\")\n",
    "else:\n",
    "    print(\"Not Leap\")"
   ]
  },
  {
   "cell_type": "code",
   "execution_count": 17,
   "metadata": {},
   "outputs": [
    {
     "name": "stdout",
     "output_type": "stream",
     "text": [
      "Zero\n"
     ]
    }
   ],
   "source": [
    "#9. Write a program that determines if a number is positive, negative, or zero.\n",
    "a = float(input(\"a: \"))\n",
    "\n",
    "if a > 0:\n",
    "    print(\"Positive\")\n",
    "elif a < 0:\n",
    "    print(\"Negative\")\n",
    "else:\n",
    "    print(\"Zero\")\n"
   ]
  },
  {
   "cell_type": "code",
   "execution_count": 18,
   "metadata": {},
   "outputs": [
    {
     "name": "stdout",
     "output_type": "stream",
     "text": [
      "Grade:  A\n"
     ]
    }
   ],
   "source": [
    "#10. Write a program that calculates the grade based on a given percentage.\n",
    "\n",
    "num = float(input(\"Number: \"))\n",
    "\n",
    "\n",
    "if num >= 90:\n",
    "    grade = 'A'\n",
    "elif num >= 80:\n",
    "    grade = 'B'\n",
    "elif num >= 70:\n",
    "    grade = 'C'\n",
    "elif num >= 60:\n",
    "    grade = 'D'\n",
    "else:\n",
    "    grade = 'F'\n",
    "\n",
    "\n",
    "print(\"Grade: \",grade)\n"
   ]
  },
  {
   "cell_type": "code",
   "execution_count": 19,
   "metadata": {},
   "outputs": [
    {
     "name": "stdout",
     "output_type": "stream",
     "text": [
      "1\n",
      "2\n",
      "3\n",
      "4\n",
      "5\n",
      "6\n",
      "7\n",
      "8\n",
      "9\n",
      "10\n"
     ]
    }
   ],
   "source": [
    "#11. Write a program that prints the first `n` natural numbers.\n",
    "n = int(input(\"Enter n: \"))\n",
    "\n",
    "for i in range(1, n + 1):\n",
    "    print(i)\n"
   ]
  },
  {
   "cell_type": "code",
   "execution_count": 20,
   "metadata": {},
   "outputs": [
    {
     "name": "stdout",
     "output_type": "stream",
     "text": [
      "factorial :  6\n"
     ]
    }
   ],
   "source": [
    "#12. Write a program that calculates the factorial of a number.\n",
    "# Get the number from the user\n",
    "num= int(input(\"Number: \"))\n",
    "\n",
    "factorial = 1\n",
    "\n",
    "for i in range(1, num + 1):\n",
    "    factorial = factorial* i\n",
    "\n",
    "print(\"factorial : \",factorial)\n"
   ]
  },
  {
   "cell_type": "code",
   "execution_count": 5,
   "metadata": {},
   "outputs": [
    {
     "name": "stdout",
     "output_type": "stream",
     "text": [
      "0 1 1 2 3 "
     ]
    }
   ],
   "source": [
    "#13. Write a program that generates a Fibonacci sequence of length `n`.\n",
    "\n",
    "def fibonacci_numbers(num):\n",
    "\tif num == 0:\n",
    "\t\treturn 0\n",
    "\telif num == 1:\n",
    "\t\treturn 1\n",
    "\telse:\n",
    "\t\treturn fibonacci_numbers(num-2)+fibonacci_numbers(num-1)\n",
    "\n",
    "\n",
    "n = int(input())\n",
    "for i in range(0, n):\n",
    "\tprint(fibonacci_numbers(i), end=\" \")\n",
    "\n",
    "\n",
    "\n"
   ]
  },
  {
   "cell_type": "code",
   "execution_count": 7,
   "metadata": {},
   "outputs": [
    {
     "name": "stdout",
     "output_type": "stream",
     "text": [
      "Not Prime.\n"
     ]
    }
   ],
   "source": [
    "#14. Write a program that checks if a given number is prime or not.\n",
    "\n",
    "num = int(input(\"Number: \"))\n",
    "\n",
    "flag = False\n",
    "\n",
    "if num == 1:\n",
    "    print(\"Not Prime.\")\n",
    "elif num == 0:\n",
    "    print(\"Not Prime.\")\n",
    "elif num > 1:\n",
    "    for i in range(2, num):\n",
    "        if (num % i) == 0:\n",
    "            flag = True\n",
    "            break\n",
    "\n",
    "    if flag:\n",
    "        print(\"not prime\")\n",
    "    else:\n",
    "        print(\"prime number\")"
   ]
  },
  {
   "cell_type": "code",
   "execution_count": 10,
   "metadata": {},
   "outputs": [
    {
     "name": "stdout",
     "output_type": "stream",
     "text": [
      "11 x 1 = 11\n",
      "11 x 2 = 22\n",
      "11 x 3 = 33\n",
      "11 x 4 = 44\n",
      "11 x 5 = 55\n",
      "11 x 6 = 66\n",
      "11 x 7 = 77\n",
      "11 x 8 = 88\n",
      "11 x 9 = 99\n",
      "11 x 10 = 110\n"
     ]
    }
   ],
   "source": [
    "#15. Write a program that prints the multiplication table of a given number.\n",
    "# Multiplication table (from 1 to 10) in Python\n",
    "\n",
    "num = int(input())\n",
    "\n",
    "for i in range(1, num):\n",
    "   print(num, 'x', i, '=', num*i)\n"
   ]
  },
  {
   "cell_type": "code",
   "execution_count": 12,
   "metadata": {},
   "outputs": [
    {
     "name": "stdout",
     "output_type": "stream",
     "text": [
      "Sum :  0\n"
     ]
    }
   ],
   "source": [
    "#16. Write a program that finds the sum of all even numbers between 1 and `n`.\n",
    "num = int(input())\n",
    "sum = 0\n",
    "i = 0\n",
    "while i <= num:\n",
    "    if i % 2 == 0:\n",
    "        sum+=i\n",
    "    i=i+1\n",
    "print(\"Sum : \",sum)"
   ]
  },
  {
   "cell_type": "code",
   "execution_count": 13,
   "metadata": {},
   "outputs": [
    {
     "name": "stdout",
     "output_type": "stream",
     "text": [
      "321\n"
     ]
    }
   ],
   "source": [
    "#17. Write a program that reverses a given number.\n",
    "num = input()\n",
    "print(str(num)[::-1])\n",
    "#took as a string"
   ]
  },
  {
   "cell_type": "code",
   "execution_count": 16,
   "metadata": {},
   "outputs": [
    {
     "name": "stdout",
     "output_type": "stream",
     "text": [
      "palindrome.\n"
     ]
    }
   ],
   "source": [
    "#18. Write a program that checks if a given string, is a palindrome. \n",
    "\n",
    "def isPalindrome(string): \n",
    "    if (string == string[::-1]): \n",
    "        return \"palindrome.\" \n",
    "    else: \n",
    "        return \"not palindrome.\" \n",
    " \n",
    "\n",
    "string = input(\"string: \") \n",
    " \n",
    "print(isPalindrome(string))"
   ]
  },
  {
   "cell_type": "code",
   "execution_count": null,
   "metadata": {},
   "outputs": [],
   "source": [
    "#19. Write a program that generates a random number and allows the user to guess it.\n",
    "import random\n",
    "\n",
    "def guess_number():\n",
    "    ran = random.randint(1, 100)\n",
    "    \n",
    "    trying = 0\n",
    "    guess = False\n",
    "    \n",
    "    print(\"Guess between 1 to 100: \")\n",
    "    \n",
    "    while not guess:\n",
    "        in_guess = int(input(\"Enter your initial guess: \"))\n",
    "        trying += 1\n",
    "        \n",
    "        if in_guess == ran:\n",
    "            guess = True\n",
    "            print(\"correct\")\n",
    "        elif in_guess < ran:\n",
    "            print(\"Try again.\")\n",
    "        else:\n",
    "            print(\"Try again.\")\n",
    "\n",
    "guess_number()\n"
   ]
  },
  {
   "cell_type": "code",
   "execution_count": 4,
   "metadata": {},
   "outputs": [
    {
     "name": "stdout",
     "output_type": "stream",
     "text": [
      "12\n"
     ]
    }
   ],
   "source": [
    "#20. Write a program that finds the greatest common divisor (GCD) of two numbers.\n",
    "import math\n",
    " \n",
    "\n",
    "num1 = int(input())\n",
    "num2 = int(input())\n",
    "print(math.gcd(num1, num2))\n"
   ]
  }
 ],
 "metadata": {
  "kernelspec": {
   "display_name": "base",
   "language": "python",
   "name": "python3"
  },
  "language_info": {
   "codemirror_mode": {
    "name": "ipython",
    "version": 3
   },
   "file_extension": ".py",
   "mimetype": "text/x-python",
   "name": "python",
   "nbconvert_exporter": "python",
   "pygments_lexer": "ipython3",
   "version": "3.11.5"
  }
 },
 "nbformat": 4,
 "nbformat_minor": 2
}
